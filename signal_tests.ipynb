{
 "cells": [
  {
   "cell_type": "code",
   "execution_count": null,
   "metadata": {},
   "outputs": [],
   "source": [
    "import numpy as np\n",
    "import matplotlib.pyplot as plt\n",
    "from scipy import signal\n",
    "from scipy.io import wavfile\n",
    "from scipy.signal import fftconvolve\n",
    "import IPython\n",
    "import pyroomacoustics as pra\n",
    "from pyroomacoustics import utilities\n",
    "from pyroomacoustics.parameters import constants"
   ]
  },
  {
   "cell_type": "code",
   "execution_count": null,
   "metadata": {},
   "outputs": [],
   "source": [
    "def rad2freq(rad, fs):\n",
    "    return rad * (fs/2) / np.pi\n",
    "\n",
    "def freq2rad(freq,fs):\n",
    "    return freq*np.pi*2/fs"
   ]
  },
  {
   "cell_type": "code",
   "execution_count": null,
   "metadata": {},
   "outputs": [],
   "source": [
    "w,h = signal.freqz(b,a)\n",
    "plt.plot((fs * 0.5 / np.pi) * w, abs(h), label=\"order = %d\" % 5)"
   ]
  },
  {
   "cell_type": "code",
   "execution_count": 1,
   "metadata": {},
   "outputs": [
    {
     "ename": "NameError",
     "evalue": "name 'np' is not defined",
     "output_type": "error",
     "traceback": [
      "\u001b[1;31m---------------------------------------------------------------------------\u001b[0m",
      "\u001b[1;31mNameError\u001b[0m                                 Traceback (most recent call last)",
      "\u001b[1;32m<ipython-input-1-12e9ee7ae544>\u001b[0m in \u001b[0;36m<module>\u001b[1;34m()\u001b[0m\n\u001b[0;32m      5\u001b[0m \u001b[0mranges\u001b[0m\u001b[1;33m[\u001b[0m\u001b[1;36m0\u001b[0m\u001b[1;33m]\u001b[0m\u001b[1;33m[\u001b[0m\u001b[1;36m0\u001b[0m\u001b[1;33m]\u001b[0m \u001b[1;33m=\u001b[0m \u001b[1;36m1\u001b[0m\u001b[1;33m\u001b[0m\u001b[0m\n\u001b[0;32m      6\u001b[0m \u001b[0mranges\u001b[0m\u001b[1;33m[\u001b[0m\u001b[1;36m5\u001b[0m\u001b[1;33m]\u001b[0m\u001b[1;33m[\u001b[0m\u001b[1;36m1\u001b[0m\u001b[1;33m]\u001b[0m \u001b[1;33m=\u001b[0m \u001b[1;36m44099\u001b[0m\u001b[1;33m\u001b[0m\u001b[0m\n\u001b[1;32m----> 7\u001b[1;33m \u001b[0mtaps\u001b[0m\u001b[1;33m=\u001b[0m \u001b[0mnp\u001b[0m\u001b[1;33m.\u001b[0m\u001b[0mzeros\u001b[0m\u001b[1;33m(\u001b[0m\u001b[1;33m(\u001b[0m\u001b[1;36m6\u001b[0m\u001b[1;33m,\u001b[0m\u001b[1;36m512\u001b[0m\u001b[1;33m)\u001b[0m\u001b[1;33m)\u001b[0m\u001b[1;33m\u001b[0m\u001b[0m\n\u001b[0m\u001b[0;32m      8\u001b[0m \u001b[1;32mfor\u001b[0m \u001b[0mi\u001b[0m \u001b[1;32min\u001b[0m \u001b[0mrange\u001b[0m\u001b[1;33m(\u001b[0m\u001b[1;36m6\u001b[0m\u001b[1;33m)\u001b[0m\u001b[1;33m:\u001b[0m\u001b[1;33m\u001b[0m\u001b[0m\n\u001b[0;32m      9\u001b[0m     taps[i] = (a[i]*signal.firwin(numtaps=512,\n",
      "\u001b[1;31mNameError\u001b[0m: name 'np' is not defined"
     ]
    }
   ],
   "source": [
    "fs = 88200\n",
    "a = [0.9,0.8,0.7,0.8,0.9, 0.5]\n",
    "f = [125,250,500,1000,2000,4000]\n",
    "ranges = [[fr*3/4,fr*3/2] for fr in f]\n",
    "ranges[0][0] = 1\n",
    "ranges[5][1] = 44099\n",
    "taps= np.zeros((6,512))\n",
    "for i in range(6):\n",
    "    taps[i] = (a[i]*signal.firwin(numtaps=512,\n",
    "                       cutoff=ranges[i],\n",
    "                       fs=fs,\n",
    "                       pass_zero=False, \n",
    "                       window='hanning',\n",
    "                       scale=False))"
   ]
  },
  {
   "cell_type": "code",
   "execution_count": null,
   "metadata": {},
   "outputs": [],
   "source": [
    "taps = np.sum(taps, axis=0)"
   ]
  },
  {
   "cell_type": "code",
   "execution_count": null,
   "metadata": {},
   "outputs": [],
   "source": [
    "w,h = signal.freqz(taps,1)\n",
    "x = (fs * 0.5 / np.pi) * w\n",
    "y = abs(h)\n",
    "plt.plot(x[:50], y[:50], label=\"order = %d\" % 5)"
   ]
  },
  {
   "cell_type": "markdown",
   "metadata": {},
   "source": [
    "w, h = signal.freqz(window)\n",
    "plt.semilogx([rad2freq(rad, fs) for rad in w], 20 * np.log10(abs(h)))"
   ]
  },
  {
   "cell_type": "markdown",
   "metadata": {},
   "source": [
    "window = signal.firwin2(numtaps=81,\n",
    "                       freq=[0.4, 0.5, 1.0],\n",
    "                       gain= [0.5, 1.0, 0.0],\n",
    "                       fs=fs,\n",
    "                       antisymmetric = True)\n",
    "plt.plot(window)"
   ]
  },
  {
   "cell_type": "markdown",
   "metadata": {},
   "source": [
    "b,a = signal.butter(1,\n",
    "                    [0.1,0.2],\n",
    "                    btype='band', output='ba')"
   ]
  },
  {
   "cell_type": "markdown",
   "metadata": {},
   "source": [
    "w, h = signal.freqz(b)\n",
    "plt.semilogx([rad2freq(rad, fs) for rad in w], 20 * np.log10(abs(h)))"
   ]
  },
  {
   "cell_type": "markdown",
   "metadata": {},
   "source": [
    "ir[time_ip-fdl2:time_ip+fdl2+1] += alpha[f,i]                        \\\n",
    "                            * np.cos(2*np.pi*constants.get('freq_table_frequencies')[f]*time_ip) \\\n",
    "                            *fractional_delay(time_fp)"
   ]
  }
 ],
 "metadata": {
  "kernelspec": {
   "display_name": "Python 3",
   "language": "python",
   "name": "python3"
  },
  "language_info": {
   "codemirror_mode": {
    "name": "ipython",
    "version": 3
   },
   "file_extension": ".py",
   "mimetype": "text/x-python",
   "name": "python",
   "nbconvert_exporter": "python",
   "pygments_lexer": "ipython3",
   "version": "3.6.6"
  }
 },
 "nbformat": 4,
 "nbformat_minor": 2
}
